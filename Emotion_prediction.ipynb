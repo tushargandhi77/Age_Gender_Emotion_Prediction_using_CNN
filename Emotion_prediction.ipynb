{
 "cells": [
  {
   "cell_type": "code",
   "execution_count": 1,
   "id": "7071b366",
   "metadata": {},
   "outputs": [],
   "source": [
    "import pandas as pd\n",
    "import numpy as np\n",
    "import tensorflow as tf\n",
    "from keras.applications import ResNet50,VGG16\n",
    "from keras.preprocessing.image import ImageDataGenerator\n",
    "from keras.layers import Dropout,BatchNormalization,Dense,Conv2D,MaxPooling2D,Flatten\n",
    "from keras.models import Sequential\n",
    "import PIL.Image\n",
    "# import matplotlib.pyplot as plt"
   ]
  },
  {
   "cell_type": "code",
   "execution_count": 2,
   "id": "5fd1681b-7c2c-4c71-964e-0e431982c7a6",
   "metadata": {},
   "outputs": [
    {
     "name": "stdout",
     "output_type": "stream",
     "text": [
      "['angry', 'disgust', 'fear', 'happy', 'neutral', 'sad', 'surprise']\n"
     ]
    }
   ],
   "source": [
    "dataset_dir = r\"F:\\ML Python VsCode\\Age_Gender_Emotion_Prediction_using_CNN\\emotion\\train\"\n",
    "import os\n",
    "print(os.listdir(dataset_dir))"
   ]
  },
  {
   "cell_type": "code",
   "execution_count": 3,
   "id": "dab8c092-280c-48fe-bea9-5cdd211a1d5b",
   "metadata": {},
   "outputs": [
    {
     "name": "stdout",
     "output_type": "stream",
     "text": [
      "Found 35887 images belonging to 7 classes.\n"
     ]
    }
   ],
   "source": [
    "train = r\"F:\\ML Python VsCode\\Age_Gender_Emotion_Prediction_using_CNN\\emotion\\train\"\n",
    "# test = \"./face_expression_dataset/images/validation\"\n",
    "\n",
    "train_datagen = ImageDataGenerator(\n",
    "    rescale = 1./255\n",
    "    # shear_range=0.1,\n",
    "    # rotation_range=5,\n",
    "    # width_shift_range=0.1,\n",
    "    # height_shift_range=0.1\n",
    ")\n",
    "# test_datagen = ImageDataGenerator(\n",
    "#     rescale = 1./255\n",
    "# )\n",
    "train_generator = train_datagen.flow_from_directory(train,target_size=(48,48),batch_size=64,class_mode=\"categorical\")\n",
    "# test_generator = test_datagen.flow_from_directory(test,target_size=(48,48),batch_size=8,class_mode=\"categorical\")\n"
   ]
  },
  {
   "cell_type": "code",
   "execution_count": 4,
   "id": "cc216b1c-0782-4f8f-94c7-db29aeb596f6",
   "metadata": {},
   "outputs": [],
   "source": [
    "tf.config.experimental.set_visible_devices([], 'GPU')"
   ]
  },
  {
   "cell_type": "code",
   "execution_count": 5,
   "id": "23f3ed5c-3f02-4b56-92b6-f3b25c2522f7",
   "metadata": {},
   "outputs": [],
   "source": [
    "gpus = tf.config.list_physical_devices('GPU')\n",
    "\n",
    "if gpus:\n",
    "    # Set TensorFlow to use only the GPU devices\n",
    "    tf.config.experimental.set_visible_devices(gpus, 'GPU')\n",
    "    for gpu in gpus:\n",
    "        tf.config.experimental.set_memory_growth(gpu, True)  # Optional: set memory growth"
   ]
  },
  {
   "cell_type": "code",
   "execution_count": 6,
   "id": "5b6fae28-b7ba-4074-9e25-7cc22dce36ae",
   "metadata": {},
   "outputs": [],
   "source": [
    "# res = VGG16(include_top=False,weights='imagenet',input_shape=(48,48,3))\n",
    "# res.trainable = False\n",
    "\n",
    "\n",
    "model = Sequential()\n",
    "model.add(Conv2D(120,kernel_size=(2,2),activation='elu',input_shape = (48,48,3)))\n",
    "model.add(BatchNormalization())\n",
    "\n",
    "model.add(Conv2D(120,kernel_size=(2,2),activation='elu'))\n",
    "model.add(BatchNormalization())\n",
    "\n",
    "model.add(Conv2D(120,kernel_size=(2,2),activation='elu'))\n",
    "model.add(BatchNormalization())\n",
    "\n",
    "model.add(Conv2D(120,kernel_size=(2,2),activation='elu'))\n",
    "model.add(BatchNormalization())\n",
    "\n",
    "model.add(Conv2D(120,kernel_size=(2,2),activation='elu'))\n",
    "model.add(BatchNormalization())\n",
    "\n",
    "\n",
    "model.add(Flatten())\n",
    "model.add(Dense(128,activation='elu'))\n",
    "model.add(BatchNormalization())\n",
    "model.add(Dropout(0.3))\n",
    "model.add(Dense(128,activation='elu'))\n",
    "model.add(BatchNormalization())\n",
    "model.add(Dropout(0.3))\n",
    "model.add(Dense(7,activation='softmax'))"
   ]
  },
  {
   "cell_type": "code",
   "execution_count": 7,
   "id": "3069e63b-3cb9-4449-8397-1dd8b7128bd3",
   "metadata": {},
   "outputs": [
    {
     "name": "stdout",
     "output_type": "stream",
     "text": [
      "Model: \"sequential\"\n",
      "_________________________________________________________________\n",
      " Layer (type)                Output Shape              Param #   \n",
      "=================================================================\n",
      " conv2d (Conv2D)             (None, 47, 47, 120)       1560      \n",
      "                                                                 \n",
      " batch_normalization (BatchN  (None, 47, 47, 120)      480       \n",
      " ormalization)                                                   \n",
      "                                                                 \n",
      " conv2d_1 (Conv2D)           (None, 46, 46, 120)       57720     \n",
      "                                                                 \n",
      " batch_normalization_1 (Batc  (None, 46, 46, 120)      480       \n",
      " hNormalization)                                                 \n",
      "                                                                 \n",
      " conv2d_2 (Conv2D)           (None, 45, 45, 120)       57720     \n",
      "                                                                 \n",
      " batch_normalization_2 (Batc  (None, 45, 45, 120)      480       \n",
      " hNormalization)                                                 \n",
      "                                                                 \n",
      " conv2d_3 (Conv2D)           (None, 44, 44, 120)       57720     \n",
      "                                                                 \n",
      " batch_normalization_3 (Batc  (None, 44, 44, 120)      480       \n",
      " hNormalization)                                                 \n",
      "                                                                 \n",
      " conv2d_4 (Conv2D)           (None, 43, 43, 120)       57720     \n",
      "                                                                 \n",
      " batch_normalization_4 (Batc  (None, 43, 43, 120)      480       \n",
      " hNormalization)                                                 \n",
      "                                                                 \n",
      " flatten (Flatten)           (None, 221880)            0         \n",
      "                                                                 \n",
      " dense (Dense)               (None, 128)               28400768  \n",
      "                                                                 \n",
      " batch_normalization_5 (Batc  (None, 128)              512       \n",
      " hNormalization)                                                 \n",
      "                                                                 \n",
      " dropout (Dropout)           (None, 128)               0         \n",
      "                                                                 \n",
      " dense_1 (Dense)             (None, 128)               16512     \n",
      "                                                                 \n",
      " batch_normalization_6 (Batc  (None, 128)              512       \n",
      " hNormalization)                                                 \n",
      "                                                                 \n",
      " dropout_1 (Dropout)         (None, 128)               0         \n",
      "                                                                 \n",
      " dense_2 (Dense)             (None, 7)                 903       \n",
      "                                                                 \n",
      "=================================================================\n",
      "Total params: 28,654,047\n",
      "Trainable params: 28,652,335\n",
      "Non-trainable params: 1,712\n",
      "_________________________________________________________________\n"
     ]
    }
   ],
   "source": [
    "model.summary()"
   ]
  },
  {
   "cell_type": "code",
   "execution_count": null,
   "id": "e2e5363c-ed96-49d6-8e8f-c5b03c92378c",
   "metadata": {},
   "outputs": [
    {
     "name": "stdout",
     "output_type": "stream",
     "text": [
      "Epoch 1/10\n",
      "561/561 [==============================] - 671s 1s/step - loss: 1.7759 - accuracy: 0.3429\n",
      "Epoch 2/10\n",
      "561/561 [==============================] - 97s 172ms/step - loss: 1.3459 - accuracy: 0.4879\n",
      "Epoch 3/10\n",
      "561/561 [==============================] - 97s 173ms/step - loss: 1.1850 - accuracy: 0.5557\n",
      "Epoch 4/10\n",
      "561/561 [==============================] - 97s 174ms/step - loss: 0.9990 - accuracy: 0.6294\n",
      "Epoch 5/10\n",
      "255/561 [============>.................] - ETA: 53s - loss: 0.6733 - accuracy: 0.7637"
     ]
    }
   ],
   "source": [
    "model.compile(optimizer='adam',loss='categorical_crossentropy',metrics=['accuracy'])\n",
    "model.fit(train_generator,epochs=10)"
   ]
  },
  {
   "cell_type": "code",
   "execution_count": null,
   "id": "f5d9622f-22eb-4fef-9f61-b77d4ebef7f1",
   "metadata": {},
   "outputs": [],
   "source": []
  }
 ],
 "metadata": {
  "kernelspec": {
   "display_name": "Python 3 (ipykernel)",
   "language": "python",
   "name": "python3"
  },
  "language_info": {
   "codemirror_mode": {
    "name": "ipython",
    "version": 3
   },
   "file_extension": ".py",
   "mimetype": "text/x-python",
   "name": "python",
   "nbconvert_exporter": "python",
   "pygments_lexer": "ipython3",
   "version": "3.11.0"
  }
 },
 "nbformat": 4,
 "nbformat_minor": 5
}
